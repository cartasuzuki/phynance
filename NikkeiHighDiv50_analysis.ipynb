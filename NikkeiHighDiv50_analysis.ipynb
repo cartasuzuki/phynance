{
  "cells": [
    {
      "cell_type": "markdown",
      "metadata": {
        "id": "gzCv2vbt1HnJ"
      },
      "source": [
        "# Nikkei High Dividend Yield 50 Analysis with Portfolio Optimizer\n",
        "\n"
      ]
    },
    {
      "cell_type": "markdown",
      "metadata": {
        "id": "4icbKzYm1HnL"
      },
      "source": [
        "## Initialization"
      ]
    },
    {
      "cell_type": "markdown",
      "metadata": {
        "id": "yxrvVg1O1HnM"
      },
      "source": [
        "If you are using CoLab, first install the dependency PyPortfolioOpt"
      ]
    },
    {
      "cell_type": "code",
      "execution_count": 1,
      "metadata": {
        "id": "v8m3TiH91HnM",
        "outputId": "9070b7e7-5332-4626-dbcc-09286ddc576c",
        "colab": {
          "base_uri": "https://localhost:8080/"
        }
      },
      "outputs": [
        {
          "output_type": "stream",
          "name": "stdout",
          "text": [
            "Collecting git+https://github.com/robertmartin8/PyPortfolioOpt.git\n",
            "  Cloning https://github.com/robertmartin8/PyPortfolioOpt.git to /tmp/pip-req-build-ts015ivg\n",
            "  Running command git clone -q https://github.com/robertmartin8/PyPortfolioOpt.git /tmp/pip-req-build-ts015ivg\n",
            "  Installing build dependencies ... \u001b[?25l\u001b[?25hdone\n",
            "  Getting requirements to build wheel ... \u001b[?25l\u001b[?25hdone\n",
            "    Preparing wheel metadata ... \u001b[?25l\u001b[?25hdone\n",
            "Requirement already satisfied: numpy<2.0,>=1.12 in /usr/local/lib/python3.7/dist-packages (from pyportfolioopt==1.5.2) (1.21.5)\n",
            "Collecting cvxpy<2.0.0,>=1.1.10\n",
            "  Downloading cvxpy-1.2.0-cp37-cp37m-manylinux_2_24_x86_64.whl (2.8 MB)\n",
            "\u001b[K     |████████████████████████████████| 2.8 MB 5.1 MB/s \n",
            "\u001b[?25hRequirement already satisfied: scipy<2.0,>=1.3 in /usr/local/lib/python3.7/dist-packages (from pyportfolioopt==1.5.2) (1.4.1)\n",
            "Requirement already satisfied: pandas>=0.19 in /usr/local/lib/python3.7/dist-packages (from pyportfolioopt==1.5.2) (1.3.5)\n",
            "Requirement already satisfied: ecos>=2 in /usr/local/lib/python3.7/dist-packages (from cvxpy<2.0.0,>=1.1.10->pyportfolioopt==1.5.2) (2.0.10)\n",
            "Requirement already satisfied: osqp>=0.4.1 in /usr/local/lib/python3.7/dist-packages (from cvxpy<2.0.0,>=1.1.10->pyportfolioopt==1.5.2) (0.6.2.post0)\n",
            "Requirement already satisfied: scs>=1.1.6 in /usr/local/lib/python3.7/dist-packages (from cvxpy<2.0.0,>=1.1.10->pyportfolioopt==1.5.2) (3.2.0)\n",
            "Requirement already satisfied: qdldl in /usr/local/lib/python3.7/dist-packages (from osqp>=0.4.1->cvxpy<2.0.0,>=1.1.10->pyportfolioopt==1.5.2) (0.1.5.post0)\n",
            "Requirement already satisfied: pytz>=2017.3 in /usr/local/lib/python3.7/dist-packages (from pandas>=0.19->pyportfolioopt==1.5.2) (2018.9)\n",
            "Requirement already satisfied: python-dateutil>=2.7.3 in /usr/local/lib/python3.7/dist-packages (from pandas>=0.19->pyportfolioopt==1.5.2) (2.8.2)\n",
            "Requirement already satisfied: six>=1.5 in /usr/local/lib/python3.7/dist-packages (from python-dateutil>=2.7.3->pandas>=0.19->pyportfolioopt==1.5.2) (1.15.0)\n",
            "Building wheels for collected packages: pyportfolioopt\n",
            "  Building wheel for pyportfolioopt (PEP 517) ... \u001b[?25l\u001b[?25hdone\n",
            "  Created wheel for pyportfolioopt: filename=pyportfolioopt-1.5.2-py3-none-any.whl size=61368 sha256=9ac09aebd21807c4bbbdb226162fae6f28be592d409c60bb3315ada54cd52c78\n",
            "  Stored in directory: /tmp/pip-ephem-wheel-cache-wt7v68uv/wheels/d0/b4/20/a9c62513c6166350c6dfdea774d9f81a018001524956fdb96e\n",
            "Successfully built pyportfolioopt\n",
            "Installing collected packages: cvxpy, pyportfolioopt\n",
            "  Attempting uninstall: cvxpy\n",
            "    Found existing installation: cvxpy 1.0.31\n",
            "    Uninstalling cvxpy-1.0.31:\n",
            "      Successfully uninstalled cvxpy-1.0.31\n",
            "Successfully installed cvxpy-1.2.0 pyportfolioopt-1.5.2\n"
          ]
        }
      ],
      "source": [
        "!pip install git+https://github.com/robertmartin8/PyPortfolioOpt.git"
      ]
    },
    {
      "cell_type": "markdown",
      "metadata": {
        "id": "xZ5S5Vao1HnO"
      },
      "source": [
        "Then get our PortfolioOptimizer library and the necessary datasets from our repository"
      ]
    },
    {
      "cell_type": "code",
      "execution_count": 2,
      "metadata": {
        "collapsed": true,
        "id": "ikhEw5mi1HnO",
        "outputId": "1a0736a3-b8c6-4e3c-8801-fcd954e1eef8",
        "colab": {
          "base_uri": "https://localhost:8080/"
        }
      },
      "outputs": [
        {
          "output_type": "stream",
          "name": "stdout",
          "text": [
            "--2022-03-31 21:05:23--  https://raw.githubusercontent.com/cartasuzuki/phynance/master/PortfolioOptimizer.py\n",
            "Resolving raw.githubusercontent.com (raw.githubusercontent.com)... 185.199.108.133, 185.199.109.133, 185.199.110.133, ...\n",
            "Connecting to raw.githubusercontent.com (raw.githubusercontent.com)|185.199.108.133|:443... connected.\n",
            "HTTP request sent, awaiting response... 200 OK\n",
            "Length: 2691 (2.6K) [text/plain]\n",
            "Saving to: ‘PortfolioOptimizer.py’\n",
            "\n",
            "\rPortfolioOptimizer.   0%[                    ]       0  --.-KB/s               \rPortfolioOptimizer. 100%[===================>]   2.63K  --.-KB/s    in 0s      \n",
            "\n",
            "2022-03-31 21:05:23 (51.9 MB/s) - ‘PortfolioOptimizer.py’ saved [2691/2691]\n",
            "\n"
          ]
        }
      ],
      "source": [
        "!wget https://raw.githubusercontent.com/cartasuzuki/phynance/master/PortfolioOptimizer.py"
      ]
    },
    {
      "cell_type": "markdown",
      "metadata": {
        "id": "9ndVE59o1HnO"
      },
      "source": [
        "Import libraries"
      ]
    },
    {
      "cell_type": "code",
      "execution_count": 3,
      "metadata": {
        "id": "do5vma0F1HnP"
      },
      "outputs": [],
      "source": [
        "import pandas as pd\n",
        "import matplotlib.pyplot as plt\n",
        "import numpy as np\n",
        "from PortfolioOptimizer import PortfolioOptimizer"
      ]
    },
    {
      "cell_type": "code",
      "execution_count": 4,
      "metadata": {
        "id": "0dXct09W1HnP"
      },
      "outputs": [],
      "source": [
        "stock_symbols = pd.read_csv('https://raw.githubusercontent.com/cartasuzuki/phynance/master/datasets/nikkei_high_dividend_yield_50_weight_en.csv')"
      ]
    },
    {
      "cell_type": "code",
      "execution_count": null,
      "metadata": {
        "id": "-CEegZu01HnP"
      },
      "outputs": [],
      "source": [
        ""
      ]
    },
    {
      "cell_type": "markdown",
      "metadata": {
        "id": "w4Bqx_Qp1HnQ"
      },
      "source": [
        "Once we have loaded our stock symbols dataset we can either use the prices in the csv file or download prices from alphadvantage to get updated data."
      ]
    },
    {
      "cell_type": "markdown",
      "metadata": {
        "id": "2J4qcM4w1HnQ"
      },
      "source": [
        "### Filter out some stocks from the index"
      ]
    },
    {
      "cell_type": "markdown",
      "metadata": {
        "id": "6ffhJmYY1HnQ"
      },
      "source": [
        "Chose a minimum div/yield. Set to 0 if you want to use all stocks in the index"
      ]
    },
    {
      "cell_type": "code",
      "execution_count": 5,
      "metadata": {
        "id": "d7en_0Hw1HnR"
      },
      "outputs": [],
      "source": [
        "min_yield = 3.5"
      ]
    },
    {
      "cell_type": "code",
      "execution_count": 56,
      "metadata": {
        "id": "O5uAu8RU1HnR"
      },
      "outputs": [],
      "source": [
        "selected_stocks = stock_symbols[stock_symbols['Dividend']>min_yield]"
      ]
    },
    {
      "cell_type": "markdown",
      "metadata": {
        "id": "Z2U22dpi1HnR"
      },
      "source": [
        "Create a filter string (highDivString) to be used later to filter stocks with lower yield than min_yield"
      ]
    },
    {
      "cell_type": "code",
      "execution_count": 39,
      "metadata": {
        "id": "r4doUNhH1HnR"
      },
      "outputs": [],
      "source": [
        "highDivString = selected_stocks['Code'].values.astype(int)\n",
        "highDivString = highDivString.astype(str)\n",
        "string = '.TOK'\n",
        "#highDivString = [x + string for x in highDivString]"
      ]
    },
    {
      "cell_type": "markdown",
      "metadata": {
        "id": "cw30vyhi1HnS"
      },
      "source": [
        "### Method 1: use csv file"
      ]
    },
    {
      "cell_type": "markdown",
      "metadata": {
        "id": "vdDAWM8Q1HnS"
      },
      "source": [
        "Read the stock prices from the csv provided in our repository"
      ]
    },
    {
      "cell_type": "code",
      "execution_count": 10,
      "metadata": {
        "id": "fSFd0yoM1HnS"
      },
      "outputs": [],
      "source": [
        "#stocks = pd.read_csv('https://raw.githubusercontent.com/cartasuzuki/phynance/master/datasets/nikkei50.csv', index_col= ['timestamp'], parse_dates= ['timestamp'])\n",
        "#stocks = pd.read_csv('https://raw.githubusercontent.com/cartasuzuki/phynance/master/datasets/nikkei_high_dividend_yield_50_prices.csv', index_col= ['timestamp'], parse_dates= ['timestamp'])\n",
        "\n",
        "stocks = pd.read_csv('https://raw.githubusercontent.com/cartasuzuki/PyInvest/master/data/nikkei50.csv', index_col= ['date'], parse_dates= ['date'])"
      ]
    },
    {
      "cell_type": "code",
      "source": [
        "highDivString"
      ],
      "metadata": {
        "id": "2mWeZhgE21vd",
        "outputId": "b5bdc085-7305-438d-ef3d-06181a67db67",
        "colab": {
          "base_uri": "https://localhost:8080/"
        }
      },
      "execution_count": null,
      "outputs": [
        {
          "output_type": "execute_result",
          "data": {
            "text/plain": [
              "array(['2768', '2914', '4061', '4183', '4188', '4208', '4502', '4902',\n",
              "       '5020', '5108', '5214', '5703', '6113', '6178', '6301', '6471',\n",
              "       '6472', '7201', '7267', '7270', '7751', '8002', '8031', '8053',\n",
              "       '8058', '8304', '8306', '8308', '8316', '8354', '8411', '8601',\n",
              "       '8628', '8725', '8766', '9412', '9437'], dtype='<U21')"
            ]
          },
          "metadata": {},
          "execution_count": 31
        }
      ]
    },
    {
      "cell_type": "markdown",
      "metadata": {
        "id": "OE1m75wU1HnT"
      },
      "source": [
        "If you want higher yield filter out using the filter previously created"
      ]
    },
    {
      "cell_type": "code",
      "execution_count": 11,
      "metadata": {
        "id": "0vx4HQQJ1HnT"
      },
      "outputs": [],
      "source": [
        "stocks = stocks[highDivString]"
      ]
    },
    {
      "cell_type": "code",
      "source": [
        "stocks = stocks.replace(',','', regex=True)\n",
        "cols=[i for i in stocks.columns if i not in [\"timestamp\"]]\n",
        "\n",
        "for col in cols:\n",
        "    stocks[col]=pd.to_numeric(stocks[col])"
      ],
      "metadata": {
        "id": "qunr5O1Z64T0"
      },
      "execution_count": 12,
      "outputs": []
    },
    {
      "cell_type": "code",
      "source": [
        "stocks.head()"
      ],
      "metadata": {
        "id": "BN_0kZZR68fn",
        "outputId": "27ef00bb-94f3-4545-e43d-461447fff4de",
        "colab": {
          "base_uri": "https://localhost:8080/",
          "height": 267
        }
      },
      "execution_count": 13,
      "outputs": [
        {
          "output_type": "execute_result",
          "data": {
            "text/plain": [
              "            2768    2914  4061  4183   4188  4208    4502  4902   5020  \\\n",
              "date                                                                     \n",
              "2022-03-28  2099  2119.5  3530  3125  841.3  2076  3581.0   536  489.8   \n",
              "2022-03-25  2102  2091.0  3550  3195  846.2  2077  3612.0   533  475.9   \n",
              "2022-03-24  2081  2089.5  3530  3140  824.8  2069  3631.0   531  473.4   \n",
              "2022-03-23  2075  2095.5  3525  3125  828.2  2081  3620.0   529  474.6   \n",
              "2022-03-22  2076  2064.0  3480  3090  821.2  2050  3596.0   523  469.5   \n",
              "\n",
              "              5108  ...   8308    8316  8354    8411   8601  8628    8725  \\\n",
              "date                ...                                                     \n",
              "2022-03-28  4649.0  ...  553.6  4119.0  2484  1655.5  721.0   845  4211.0   \n",
              "2022-03-25  4624.0  ...  546.5  4173.0  2459  1640.5  718.9   844  4173.0   \n",
              "2022-03-24  4631.0  ...  546.8  4251.0  2444  1649.0  717.7   844  4231.0   \n",
              "2022-03-23  4575.0  ...  556.7  4233.0  2488  1654.5  744.0   856  4232.0   \n",
              "2022-03-22  4547.0  ...  556.1  4159.0  2453  1628.5  719.6   852  4163.0   \n",
              "\n",
              "            8766  9412    9437  \n",
              "date                            \n",
              "2022-03-28  7395   428  3880.0  \n",
              "2022-03-25  7325   427  3880.0  \n",
              "2022-03-24  7474   429  3880.0  \n",
              "2022-03-23  7470   429  3880.0  \n",
              "2022-03-22  7513   428  3880.0  \n",
              "\n",
              "[5 rows x 37 columns]"
            ],
            "text/html": [
              "\n",
              "  <div id=\"df-e1f50f43-87b3-4467-a2a5-be71ad6c4f13\">\n",
              "    <div class=\"colab-df-container\">\n",
              "      <div>\n",
              "<style scoped>\n",
              "    .dataframe tbody tr th:only-of-type {\n",
              "        vertical-align: middle;\n",
              "    }\n",
              "\n",
              "    .dataframe tbody tr th {\n",
              "        vertical-align: top;\n",
              "    }\n",
              "\n",
              "    .dataframe thead th {\n",
              "        text-align: right;\n",
              "    }\n",
              "</style>\n",
              "<table border=\"1\" class=\"dataframe\">\n",
              "  <thead>\n",
              "    <tr style=\"text-align: right;\">\n",
              "      <th></th>\n",
              "      <th>2768</th>\n",
              "      <th>2914</th>\n",
              "      <th>4061</th>\n",
              "      <th>4183</th>\n",
              "      <th>4188</th>\n",
              "      <th>4208</th>\n",
              "      <th>4502</th>\n",
              "      <th>4902</th>\n",
              "      <th>5020</th>\n",
              "      <th>5108</th>\n",
              "      <th>...</th>\n",
              "      <th>8308</th>\n",
              "      <th>8316</th>\n",
              "      <th>8354</th>\n",
              "      <th>8411</th>\n",
              "      <th>8601</th>\n",
              "      <th>8628</th>\n",
              "      <th>8725</th>\n",
              "      <th>8766</th>\n",
              "      <th>9412</th>\n",
              "      <th>9437</th>\n",
              "    </tr>\n",
              "    <tr>\n",
              "      <th>date</th>\n",
              "      <th></th>\n",
              "      <th></th>\n",
              "      <th></th>\n",
              "      <th></th>\n",
              "      <th></th>\n",
              "      <th></th>\n",
              "      <th></th>\n",
              "      <th></th>\n",
              "      <th></th>\n",
              "      <th></th>\n",
              "      <th></th>\n",
              "      <th></th>\n",
              "      <th></th>\n",
              "      <th></th>\n",
              "      <th></th>\n",
              "      <th></th>\n",
              "      <th></th>\n",
              "      <th></th>\n",
              "      <th></th>\n",
              "      <th></th>\n",
              "      <th></th>\n",
              "    </tr>\n",
              "  </thead>\n",
              "  <tbody>\n",
              "    <tr>\n",
              "      <th>2022-03-28</th>\n",
              "      <td>2099</td>\n",
              "      <td>2119.5</td>\n",
              "      <td>3530</td>\n",
              "      <td>3125</td>\n",
              "      <td>841.3</td>\n",
              "      <td>2076</td>\n",
              "      <td>3581.0</td>\n",
              "      <td>536</td>\n",
              "      <td>489.8</td>\n",
              "      <td>4649.0</td>\n",
              "      <td>...</td>\n",
              "      <td>553.6</td>\n",
              "      <td>4119.0</td>\n",
              "      <td>2484</td>\n",
              "      <td>1655.5</td>\n",
              "      <td>721.0</td>\n",
              "      <td>845</td>\n",
              "      <td>4211.0</td>\n",
              "      <td>7395</td>\n",
              "      <td>428</td>\n",
              "      <td>3880.0</td>\n",
              "    </tr>\n",
              "    <tr>\n",
              "      <th>2022-03-25</th>\n",
              "      <td>2102</td>\n",
              "      <td>2091.0</td>\n",
              "      <td>3550</td>\n",
              "      <td>3195</td>\n",
              "      <td>846.2</td>\n",
              "      <td>2077</td>\n",
              "      <td>3612.0</td>\n",
              "      <td>533</td>\n",
              "      <td>475.9</td>\n",
              "      <td>4624.0</td>\n",
              "      <td>...</td>\n",
              "      <td>546.5</td>\n",
              "      <td>4173.0</td>\n",
              "      <td>2459</td>\n",
              "      <td>1640.5</td>\n",
              "      <td>718.9</td>\n",
              "      <td>844</td>\n",
              "      <td>4173.0</td>\n",
              "      <td>7325</td>\n",
              "      <td>427</td>\n",
              "      <td>3880.0</td>\n",
              "    </tr>\n",
              "    <tr>\n",
              "      <th>2022-03-24</th>\n",
              "      <td>2081</td>\n",
              "      <td>2089.5</td>\n",
              "      <td>3530</td>\n",
              "      <td>3140</td>\n",
              "      <td>824.8</td>\n",
              "      <td>2069</td>\n",
              "      <td>3631.0</td>\n",
              "      <td>531</td>\n",
              "      <td>473.4</td>\n",
              "      <td>4631.0</td>\n",
              "      <td>...</td>\n",
              "      <td>546.8</td>\n",
              "      <td>4251.0</td>\n",
              "      <td>2444</td>\n",
              "      <td>1649.0</td>\n",
              "      <td>717.7</td>\n",
              "      <td>844</td>\n",
              "      <td>4231.0</td>\n",
              "      <td>7474</td>\n",
              "      <td>429</td>\n",
              "      <td>3880.0</td>\n",
              "    </tr>\n",
              "    <tr>\n",
              "      <th>2022-03-23</th>\n",
              "      <td>2075</td>\n",
              "      <td>2095.5</td>\n",
              "      <td>3525</td>\n",
              "      <td>3125</td>\n",
              "      <td>828.2</td>\n",
              "      <td>2081</td>\n",
              "      <td>3620.0</td>\n",
              "      <td>529</td>\n",
              "      <td>474.6</td>\n",
              "      <td>4575.0</td>\n",
              "      <td>...</td>\n",
              "      <td>556.7</td>\n",
              "      <td>4233.0</td>\n",
              "      <td>2488</td>\n",
              "      <td>1654.5</td>\n",
              "      <td>744.0</td>\n",
              "      <td>856</td>\n",
              "      <td>4232.0</td>\n",
              "      <td>7470</td>\n",
              "      <td>429</td>\n",
              "      <td>3880.0</td>\n",
              "    </tr>\n",
              "    <tr>\n",
              "      <th>2022-03-22</th>\n",
              "      <td>2076</td>\n",
              "      <td>2064.0</td>\n",
              "      <td>3480</td>\n",
              "      <td>3090</td>\n",
              "      <td>821.2</td>\n",
              "      <td>2050</td>\n",
              "      <td>3596.0</td>\n",
              "      <td>523</td>\n",
              "      <td>469.5</td>\n",
              "      <td>4547.0</td>\n",
              "      <td>...</td>\n",
              "      <td>556.1</td>\n",
              "      <td>4159.0</td>\n",
              "      <td>2453</td>\n",
              "      <td>1628.5</td>\n",
              "      <td>719.6</td>\n",
              "      <td>852</td>\n",
              "      <td>4163.0</td>\n",
              "      <td>7513</td>\n",
              "      <td>428</td>\n",
              "      <td>3880.0</td>\n",
              "    </tr>\n",
              "  </tbody>\n",
              "</table>\n",
              "<p>5 rows × 37 columns</p>\n",
              "</div>\n",
              "      <button class=\"colab-df-convert\" onclick=\"convertToInteractive('df-e1f50f43-87b3-4467-a2a5-be71ad6c4f13')\"\n",
              "              title=\"Convert this dataframe to an interactive table.\"\n",
              "              style=\"display:none;\">\n",
              "        \n",
              "  <svg xmlns=\"http://www.w3.org/2000/svg\" height=\"24px\"viewBox=\"0 0 24 24\"\n",
              "       width=\"24px\">\n",
              "    <path d=\"M0 0h24v24H0V0z\" fill=\"none\"/>\n",
              "    <path d=\"M18.56 5.44l.94 2.06.94-2.06 2.06-.94-2.06-.94-.94-2.06-.94 2.06-2.06.94zm-11 1L8.5 8.5l.94-2.06 2.06-.94-2.06-.94L8.5 2.5l-.94 2.06-2.06.94zm10 10l.94 2.06.94-2.06 2.06-.94-2.06-.94-.94-2.06-.94 2.06-2.06.94z\"/><path d=\"M17.41 7.96l-1.37-1.37c-.4-.4-.92-.59-1.43-.59-.52 0-1.04.2-1.43.59L10.3 9.45l-7.72 7.72c-.78.78-.78 2.05 0 2.83L4 21.41c.39.39.9.59 1.41.59.51 0 1.02-.2 1.41-.59l7.78-7.78 2.81-2.81c.8-.78.8-2.07 0-2.86zM5.41 20L4 18.59l7.72-7.72 1.47 1.35L5.41 20z\"/>\n",
              "  </svg>\n",
              "      </button>\n",
              "      \n",
              "  <style>\n",
              "    .colab-df-container {\n",
              "      display:flex;\n",
              "      flex-wrap:wrap;\n",
              "      gap: 12px;\n",
              "    }\n",
              "\n",
              "    .colab-df-convert {\n",
              "      background-color: #E8F0FE;\n",
              "      border: none;\n",
              "      border-radius: 50%;\n",
              "      cursor: pointer;\n",
              "      display: none;\n",
              "      fill: #1967D2;\n",
              "      height: 32px;\n",
              "      padding: 0 0 0 0;\n",
              "      width: 32px;\n",
              "    }\n",
              "\n",
              "    .colab-df-convert:hover {\n",
              "      background-color: #E2EBFA;\n",
              "      box-shadow: 0px 1px 2px rgba(60, 64, 67, 0.3), 0px 1px 3px 1px rgba(60, 64, 67, 0.15);\n",
              "      fill: #174EA6;\n",
              "    }\n",
              "\n",
              "    [theme=dark] .colab-df-convert {\n",
              "      background-color: #3B4455;\n",
              "      fill: #D2E3FC;\n",
              "    }\n",
              "\n",
              "    [theme=dark] .colab-df-convert:hover {\n",
              "      background-color: #434B5C;\n",
              "      box-shadow: 0px 1px 3px 1px rgba(0, 0, 0, 0.15);\n",
              "      filter: drop-shadow(0px 1px 2px rgba(0, 0, 0, 0.3));\n",
              "      fill: #FFFFFF;\n",
              "    }\n",
              "  </style>\n",
              "\n",
              "      <script>\n",
              "        const buttonEl =\n",
              "          document.querySelector('#df-e1f50f43-87b3-4467-a2a5-be71ad6c4f13 button.colab-df-convert');\n",
              "        buttonEl.style.display =\n",
              "          google.colab.kernel.accessAllowed ? 'block' : 'none';\n",
              "\n",
              "        async function convertToInteractive(key) {\n",
              "          const element = document.querySelector('#df-e1f50f43-87b3-4467-a2a5-be71ad6c4f13');\n",
              "          const dataTable =\n",
              "            await google.colab.kernel.invokeFunction('convertToInteractive',\n",
              "                                                     [key], {});\n",
              "          if (!dataTable) return;\n",
              "\n",
              "          const docLinkHtml = 'Like what you see? Visit the ' +\n",
              "            '<a target=\"_blank\" href=https://colab.research.google.com/notebooks/data_table.ipynb>data table notebook</a>'\n",
              "            + ' to learn more about interactive tables.';\n",
              "          element.innerHTML = '';\n",
              "          dataTable['output_type'] = 'display_data';\n",
              "          await google.colab.output.renderOutput(dataTable, element);\n",
              "          const docLink = document.createElement('div');\n",
              "          docLink.innerHTML = docLinkHtml;\n",
              "          element.appendChild(docLink);\n",
              "        }\n",
              "      </script>\n",
              "    </div>\n",
              "  </div>\n",
              "  "
            ]
          },
          "metadata": {},
          "execution_count": 13
        }
      ]
    },
    {
      "cell_type": "code",
      "source": [
        ""
      ],
      "metadata": {
        "id": "3WZ6fsy67QJI"
      },
      "execution_count": null,
      "outputs": []
    },
    {
      "cell_type": "code",
      "execution_count": null,
      "metadata": {
        "id": "g3VmBvGv1HnU"
      },
      "outputs": [],
      "source": [
        ""
      ]
    },
    {
      "cell_type": "markdown",
      "metadata": {
        "id": "qj7NMn6W1HnV"
      },
      "source": [
        "## Portfolio Optimization"
      ]
    },
    {
      "cell_type": "code",
      "execution_count": 40,
      "metadata": {
        "id": "RCkbiX_p1HnV"
      },
      "outputs": [],
      "source": [
        "\n",
        "\n",
        "weights, sharpe, ret = PortfolioOptimizer.optimize_portfolio(stocks,0,0.25)"
      ]
    },
    {
      "cell_type": "code",
      "execution_count": 41,
      "metadata": {
        "id": "DuLd3SwB1HnV",
        "outputId": "51fbe627-aa51-4b9a-b770-82aca952e938",
        "colab": {
          "base_uri": "https://localhost:8080/",
          "height": 370
        }
      },
      "outputs": [
        {
          "output_type": "stream",
          "name": "stdout",
          "text": [
            "8002: 11.0%\n",
            "8031: 25.0%\n",
            "8058: 24.0%\n",
            "8766: 16.0%\n",
            "9437: 25.0%\n",
            "Sharpe: 0.53\n",
            "Exp. Return: 11.52\n"
          ]
        },
        {
          "output_type": "display_data",
          "data": {
            "text/plain": [
              "<Figure size 432x288 with 1 Axes>"
            ],
            "image/png": "[encoded data removed]"
          },
          "metadata": {}
        }
      ],
      "source": [
        "PortfolioOptimizer.print_portfolio_result(weights, sharpe, ret)\n",
        "PortfolioOptimizer.portfolioAsPieChart(weights)"
      ]
    },
    {
      "cell_type": "markdown",
      "metadata": {
        "id": "goSiHsF41HnW"
      },
      "source": [
        "Average yield"
      ]
    },
    {
      "cell_type": "code",
      "execution_count": null,
      "metadata": {
        "id": "4KbedtcX1HnW"
      },
      "outputs": [],
      "source": [
        "selected_stocks"
      ]
    },
    {
      "cell_type": "code",
      "source": [
        "selected_stocks['Dividend'].mean()"
      ],
      "metadata": {
        "id": "_zGbHbab2zYs",
        "outputId": "9ad1b2b9-9230-4b6d-e0f3-0954319141ab",
        "colab": {
          "base_uri": "https://localhost:8080/"
        }
      },
      "execution_count": 58,
      "outputs": [
        {
          "output_type": "execute_result",
          "data": {
            "text/plain": [
              "4.397297297297298"
            ]
          },
          "metadata": {},
          "execution_count": 58
        }
      ]
    },
    {
      "cell_type": "code",
      "source": [
        "weights"
      ],
      "metadata": {
        "id": "z2CLvlMn1C-u"
      },
      "execution_count": null,
      "outputs": []
    },
    {
      "cell_type": "markdown",
      "metadata": {
        "id": "GanME8Xr1HnW"
      },
      "source": [
        "Remove 0s and TOK string."
      ]
    },
    {
      "cell_type": "code",
      "execution_count": 60,
      "metadata": {
        "id": "g6kFQ7IK1HnW",
        "outputId": "58c33245-0ba0-42ca-8e03-36b23b78066e",
        "colab": {
          "base_uri": "https://localhost:8080/"
        }
      },
      "outputs": [
        {
          "output_type": "execute_result",
          "data": {
            "text/plain": [
              "['8002', '8031', '8058', '8766', '9437']"
            ]
          },
          "metadata": {},
          "execution_count": 60
        }
      ],
      "source": [
        "www ={x:y for x,y in weights.items() if y>0.001}\n",
        "portfolio =list(www.keys())\n",
        "portfoliovalues = list(www.values())\n",
        "\n",
        "portfolio"
      ]
    },
    {
      "cell_type": "markdown",
      "metadata": {
        "id": "7l-lnC161HnW"
      },
      "source": [
        "### Resulting Portfolio"
      ]
    },
    {
      "cell_type": "code",
      "execution_count": 82,
      "metadata": {
        "id": "zX5wm4m_1HnW"
      },
      "outputs": [],
      "source": [
        "portolio_stocks = selected_stocks[selected_stocks['Code'].isin(portfolio)]\n"
      ]
    },
    {
      "cell_type": "code",
      "execution_count": 83,
      "metadata": {
        "id": "-9AcJwNZ1HnX",
        "outputId": "6d4f1445-f231-4265-e2e2-a3716e2078c3",
        "colab": {
          "base_uri": "https://localhost:8080/",
          "height": 206
        }
      },
      "outputs": [
        {
          "output_type": "execute_result",
          "data": {
            "text/plain": [
              "   Date of Data  Code                 Company Name  \\\n",
              "27   2018/11/30  8002               MARUBENI CORP.   \n",
              "28   2018/11/30  8031           MITSUI & CO., LTD.   \n",
              "31   2018/11/30  8058             MITSUBISHI CORP.   \n",
              "44   2018/11/30  8766  TOKIO MARINE HOLDINGS, INC.   \n",
              "47   2018/11/30  9437             NTT DOCOMO, INC.   \n",
              "\n",
              "   Nikkei Industrial Classification   Weight  Dividend  \n",
              "27                Trading Companies  2.5729%      4.26  \n",
              "28                Trading Companies  2.7195%      4.11  \n",
              "31                Trading Companies  3.0817%      4.38  \n",
              "44                        Insurance  2.9531%      3.60  \n",
              "47                   Communications  2.9280%      3.80  "
            ],
            "text/html": [
              "\n",
              "  <div id=\"df-047f8f59-0ce4-4192-99b1-1ff3db18914d\">\n",
              "    <div class=\"colab-df-container\">\n",
              "      <div>\n",
              "<style scoped>\n",
              "    .dataframe tbody tr th:only-of-type {\n",
              "        vertical-align: middle;\n",
              "    }\n",
              "\n",
              "    .dataframe tbody tr th {\n",
              "        vertical-align: top;\n",
              "    }\n",
              "\n",
              "    .dataframe thead th {\n",
              "        text-align: right;\n",
              "    }\n",
              "</style>\n",
              "<table border=\"1\" class=\"dataframe\">\n",
              "  <thead>\n",
              "    <tr style=\"text-align: right;\">\n",
              "      <th></th>\n",
              "      <th>Date of Data</th>\n",
              "      <th>Code</th>\n",
              "      <th>Company Name</th>\n",
              "      <th>Nikkei Industrial Classification</th>\n",
              "      <th>Weight</th>\n",
              "      <th>Dividend</th>\n",
              "    </tr>\n",
              "  </thead>\n",
              "  <tbody>\n",
              "    <tr>\n",
              "      <th>27</th>\n",
              "      <td>2018/11/30</td>\n",
              "      <td>8002</td>\n",
              "      <td>MARUBENI CORP.</td>\n",
              "      <td>Trading Companies</td>\n",
              "      <td>2.5729%</td>\n",
              "      <td>4.26</td>\n",
              "    </tr>\n",
              "    <tr>\n",
              "      <th>28</th>\n",
              "      <td>2018/11/30</td>\n",
              "      <td>8031</td>\n",
              "      <td>MITSUI &amp; CO., LTD.</td>\n",
              "      <td>Trading Companies</td>\n",
              "      <td>2.7195%</td>\n",
              "      <td>4.11</td>\n",
              "    </tr>\n",
              "    <tr>\n",
              "      <th>31</th>\n",
              "      <td>2018/11/30</td>\n",
              "      <td>8058</td>\n",
              "      <td>MITSUBISHI CORP.</td>\n",
              "      <td>Trading Companies</td>\n",
              "      <td>3.0817%</td>\n",
              "      <td>4.38</td>\n",
              "    </tr>\n",
              "    <tr>\n",
              "      <th>44</th>\n",
              "      <td>2018/11/30</td>\n",
              "      <td>8766</td>\n",
              "      <td>TOKIO MARINE HOLDINGS, INC.</td>\n",
              "      <td>Insurance</td>\n",
              "      <td>2.9531%</td>\n",
              "      <td>3.60</td>\n",
              "    </tr>\n",
              "    <tr>\n",
              "      <th>47</th>\n",
              "      <td>2018/11/30</td>\n",
              "      <td>9437</td>\n",
              "      <td>NTT DOCOMO, INC.</td>\n",
              "      <td>Communications</td>\n",
              "      <td>2.9280%</td>\n",
              "      <td>3.80</td>\n",
              "    </tr>\n",
              "  </tbody>\n",
              "</table>\n",
              "</div>\n",
              "      <button class=\"colab-df-convert\" onclick=\"convertToInteractive('df-047f8f59-0ce4-4192-99b1-1ff3db18914d')\"\n",
              "              title=\"Convert this dataframe to an interactive table.\"\n",
              "              style=\"display:none;\">\n",
              "        \n",
              "  <svg xmlns=\"http://www.w3.org/2000/svg\" height=\"24px\"viewBox=\"0 0 24 24\"\n",
              "       width=\"24px\">\n",
              "    <path d=\"M0 0h24v24H0V0z\" fill=\"none\"/>\n",
              "    <path d=\"M18.56 5.44l.94 2.06.94-2.06 2.06-.94-2.06-.94-.94-2.06-.94 2.06-2.06.94zm-11 1L8.5 8.5l.94-2.06 2.06-.94-2.06-.94L8.5 2.5l-.94 2.06-2.06.94zm10 10l.94 2.06.94-2.06 2.06-.94-2.06-.94-.94-2.06-.94 2.06-2.06.94z\"/><path d=\"M17.41 7.96l-1.37-1.37c-.4-.4-.92-.59-1.43-.59-.52 0-1.04.2-1.43.59L10.3 9.45l-7.72 7.72c-.78.78-.78 2.05 0 2.83L4 21.41c.39.39.9.59 1.41.59.51 0 1.02-.2 1.41-.59l7.78-7.78 2.81-2.81c.8-.78.8-2.07 0-2.86zM5.41 20L4 18.59l7.72-7.72 1.47 1.35L5.41 20z\"/>\n",
              "  </svg>\n",
              "      </button>\n",
              "      \n",
              "  <style>\n",
              "    .colab-df-container {\n",
              "      display:flex;\n",
              "      flex-wrap:wrap;\n",
              "      gap: 12px;\n",
              "    }\n",
              "\n",
              "    .colab-df-convert {\n",
              "      background-color: #E8F0FE;\n",
              "      border: none;\n",
              "      border-radius: 50%;\n",
              "      cursor: pointer;\n",
              "      display: none;\n",
              "      fill: #1967D2;\n",
              "      height: 32px;\n",
              "      padding: 0 0 0 0;\n",
              "      width: 32px;\n",
              "    }\n",
              "\n",
              "    .colab-df-convert:hover {\n",
              "      background-color: #E2EBFA;\n",
              "      box-shadow: 0px 1px 2px rgba(60, 64, 67, 0.3), 0px 1px 3px 1px rgba(60, 64, 67, 0.15);\n",
              "      fill: #174EA6;\n",
              "    }\n",
              "\n",
              "    [theme=dark] .colab-df-convert {\n",
              "      background-color: #3B4455;\n",
              "      fill: #D2E3FC;\n",
              "    }\n",
              "\n",
              "    [theme=dark] .colab-df-convert:hover {\n",
              "      background-color: #434B5C;\n",
              "      box-shadow: 0px 1px 3px 1px rgba(0, 0, 0, 0.15);\n",
              "      filter: drop-shadow(0px 1px 2px rgba(0, 0, 0, 0.3));\n",
              "      fill: #FFFFFF;\n",
              "    }\n",
              "  </style>\n",
              "\n",
              "      <script>\n",
              "        const buttonEl =\n",
              "          document.querySelector('#df-047f8f59-0ce4-4192-99b1-1ff3db18914d button.colab-df-convert');\n",
              "        buttonEl.style.display =\n",
              "          google.colab.kernel.accessAllowed ? 'block' : 'none';\n",
              "\n",
              "        async function convertToInteractive(key) {\n",
              "          const element = document.querySelector('#df-047f8f59-0ce4-4192-99b1-1ff3db18914d');\n",
              "          const dataTable =\n",
              "            await google.colab.kernel.invokeFunction('convertToInteractive',\n",
              "                                                     [key], {});\n",
              "          if (!dataTable) return;\n",
              "\n",
              "          const docLinkHtml = 'Like what you see? Visit the ' +\n",
              "            '<a target=\"_blank\" href=https://colab.research.google.com/notebooks/data_table.ipynb>data table notebook</a>'\n",
              "            + ' to learn more about interactive tables.';\n",
              "          element.innerHTML = '';\n",
              "          dataTable['output_type'] = 'display_data';\n",
              "          await google.colab.output.renderOutput(dataTable, element);\n",
              "          const docLink = document.createElement('div');\n",
              "          docLink.innerHTML = docLinkHtml;\n",
              "          element.appendChild(docLink);\n",
              "        }\n",
              "      </script>\n",
              "    </div>\n",
              "  </div>\n",
              "  "
            ]
          },
          "metadata": {},
          "execution_count": 83
        }
      ],
      "source": [
        "portolio_stocks"
      ]
    },
    {
      "cell_type": "code",
      "execution_count": 87,
      "metadata": {
        "id": "KxGMp9H91HnX",
        "outputId": "97993a02-a6e8-40d0-f05b-ce6c8f6241f9",
        "colab": {
          "base_uri": "https://localhost:8080/"
        }
      },
      "outputs": [
        {
          "output_type": "execute_result",
          "data": {
            "text/plain": [
              "4.03"
            ]
          },
          "metadata": {},
          "execution_count": 87
        }
      ],
      "source": [
        "Div_Yield = np.average(portolio_stocks['Dividend'])\n",
        "round(Div_Yield, 2)"
      ]
    },
    {
      "cell_type": "code",
      "execution_count": 81,
      "metadata": {
        "id": "pl7CwvrY1HnX",
        "outputId": "cdf533c0-0989-4d7a-d1ce-fc7393df4dc5",
        "colab": {
          "base_uri": "https://localhost:8080/"
        }
      },
      "outputs": [
        {
          "output_type": "execute_result",
          "data": {
            "text/plain": [
              "[8002, 8031, 8058, 8766, 9437]"
            ]
          },
          "metadata": {},
          "execution_count": 81
        }
      ],
      "source": [
        "portfolio = list(map(int, portfolio))\n",
        "portfolio"
      ]
    },
    {
      "cell_type": "code",
      "source": [
        "for item in [selected_stocks['Code'], 'string', None]:\n",
        "    print type(item)"
      ],
      "metadata": {
        "id": "4n4zXS1j6CUM",
        "outputId": "fd4c267d-6023-46ae-ae19-1849f1846562",
        "colab": {
          "base_uri": "https://localhost:8080/",
          "height": 132
        }
      },
      "execution_count": 80,
      "outputs": [
        {
          "output_type": "error",
          "ename": "SyntaxError",
          "evalue": "ignored",
          "traceback": [
            "\u001b[0;36m  File \u001b[0;32m\"<ipython-input-80-cdbeb5a80c55>\"\u001b[0;36m, line \u001b[0;32m2\u001b[0m\n\u001b[0;31m    print type(item)\u001b[0m\n\u001b[0m             ^\u001b[0m\n\u001b[0;31mSyntaxError\u001b[0m\u001b[0;31m:\u001b[0m invalid syntax\n"
          ]
        }
      ]
    }
  ],
  "metadata": {
    "kernelspec": {
      "display_name": "Python 3",
      "language": "python",
      "name": "python3"
    },
    "language_info": {
      "codemirror_mode": {
        "name": "ipython",
        "version": 3
      },
      "file_extension": ".py",
      "mimetype": "text/x-python",
      "name": "python",
      "nbconvert_exporter": "python",
      "pygments_lexer": "ipython3",
      "version": "3.6.4"
    },
    "colab": {
      "name": "NikkeiHighDiv50_analysis.ipynb",
      "provenance": []
    }
  },
  "nbformat": 4,
  "nbformat_minor": 0
}