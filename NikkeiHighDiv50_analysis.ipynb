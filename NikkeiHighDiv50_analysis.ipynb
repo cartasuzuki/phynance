{
  "cells": [
    {
      "cell_type": "markdown",
      "metadata": {
        "id": "gzCv2vbt1HnJ"
      },
      "source": [
        "# Nikkei High Dividend Yield 50 Analysis with Portfolio Optimizer\n",
        "\n"
      ]
    },
    {
      "cell_type": "markdown",
      "metadata": {
        "id": "4icbKzYm1HnL"
      },
      "source": [
        "## Initialization"
      ]
    },
    {
      "cell_type": "markdown",
      "metadata": {
        "id": "yxrvVg1O1HnM"
      },
      "source": [
        "If you are using CoLab, first install the dependency PyPortfolioOpt"
      ]
    },
    {
      "cell_type": "code",
      "execution_count": 3,
      "metadata": {
        "id": "v8m3TiH91HnM",
        "outputId": "1a9474ed-9750-4dbe-84d8-a0284303ef3e",
        "colab": {
          "base_uri": "https://localhost:8080/"
        }
      },
      "outputs": [
        {
          "output_type": "stream",
          "name": "stdout",
          "text": [
            "Collecting git+https://github.com/robertmartin8/PyPortfolioOpt.git\n",
            "  Cloning https://github.com/robertmartin8/PyPortfolioOpt.git to /tmp/pip-req-build-0noae6ft\n",
            "  Running command git clone -q https://github.com/robertmartin8/PyPortfolioOpt.git /tmp/pip-req-build-0noae6ft\n",
            "  Installing build dependencies ... \u001b[?25l\u001b[?25hdone\n",
            "  Getting requirements to build wheel ... \u001b[?25l\u001b[?25hdone\n",
            "    Preparing wheel metadata ... \u001b[?25l\u001b[?25hdone\n",
            "Requirement already satisfied: scipy<2.0,>=1.3 in /usr/local/lib/python3.7/dist-packages (from pyportfolioopt==1.5.1) (1.4.1)\n",
            "Requirement already satisfied: numpy<2.0,>=1.12 in /usr/local/lib/python3.7/dist-packages (from pyportfolioopt==1.5.1) (1.19.5)\n",
            "Requirement already satisfied: pandas>=0.19 in /usr/local/lib/python3.7/dist-packages (from pyportfolioopt==1.5.1) (1.1.5)\n",
            "Collecting cvxpy<2.0.0,>=1.1.10\n",
            "  Downloading cvxpy-1.1.18-cp37-cp37m-manylinux_2_24_x86_64.whl (2.7 MB)\n",
            "\u001b[K     |████████████████████████████████| 2.7 MB 5.4 MB/s \n",
            "\u001b[?25hRequirement already satisfied: osqp>=0.4.1 in /usr/local/lib/python3.7/dist-packages (from cvxpy<2.0.0,>=1.1.10->pyportfolioopt==1.5.1) (0.6.2.post0)\n",
            "Requirement already satisfied: ecos>=2 in /usr/local/lib/python3.7/dist-packages (from cvxpy<2.0.0,>=1.1.10->pyportfolioopt==1.5.1) (2.0.10)\n",
            "Requirement already satisfied: scs>=1.1.6 in /usr/local/lib/python3.7/dist-packages (from cvxpy<2.0.0,>=1.1.10->pyportfolioopt==1.5.1) (3.0.1)\n",
            "Requirement already satisfied: qdldl in /usr/local/lib/python3.7/dist-packages (from osqp>=0.4.1->cvxpy<2.0.0,>=1.1.10->pyportfolioopt==1.5.1) (0.1.5.post0)\n",
            "Requirement already satisfied: python-dateutil>=2.7.3 in /usr/local/lib/python3.7/dist-packages (from pandas>=0.19->pyportfolioopt==1.5.1) (2.8.2)\n",
            "Requirement already satisfied: pytz>=2017.2 in /usr/local/lib/python3.7/dist-packages (from pandas>=0.19->pyportfolioopt==1.5.1) (2018.9)\n",
            "Requirement already satisfied: six>=1.5 in /usr/local/lib/python3.7/dist-packages (from python-dateutil>=2.7.3->pandas>=0.19->pyportfolioopt==1.5.1) (1.15.0)\n",
            "Building wheels for collected packages: pyportfolioopt\n",
            "  Building wheel for pyportfolioopt (PEP 517) ... \u001b[?25l\u001b[?25hdone\n",
            "  Created wheel for pyportfolioopt: filename=PyPortfolioOpt-1.5.1-py3-none-any.whl size=61313 sha256=94c12cec08c37a99f00bcdda99a5c44885353914f1f07061ea01990ea10cb8fc\n",
            "  Stored in directory: /tmp/pip-ephem-wheel-cache-yrz8ciru/wheels/d0/b4/20/a9c62513c6166350c6dfdea774d9f81a018001524956fdb96e\n",
            "Successfully built pyportfolioopt\n",
            "Installing collected packages: cvxpy, pyportfolioopt\n",
            "  Attempting uninstall: cvxpy\n",
            "    Found existing installation: cvxpy 1.0.31\n",
            "    Uninstalling cvxpy-1.0.31:\n",
            "      Successfully uninstalled cvxpy-1.0.31\n",
            "Successfully installed cvxpy-1.1.18 pyportfolioopt-1.5.1\n"
          ]
        }
      ],
      "source": [
        "!pip install git+https://github.com/robertmartin8/PyPortfolioOpt.git"
      ]
    },
    {
      "cell_type": "markdown",
      "metadata": {
        "id": "xZ5S5Vao1HnO"
      },
      "source": [
        "Then get our PortfolioOptimizer library and the necessary datasets from our repository"
      ]
    },
    {
      "cell_type": "code",
      "execution_count": 4,
      "metadata": {
        "collapsed": true,
        "id": "ikhEw5mi1HnO",
        "outputId": "a40760d6-7792-4953-8146-21616b7f33ab",
        "colab": {
          "base_uri": "https://localhost:8080/"
        }
      },
      "outputs": [
        {
          "output_type": "stream",
          "name": "stdout",
          "text": [
            "--2022-01-15 04:06:45--  https://raw.githubusercontent.com/cartasuzuki/phynance/master/PortfolioOptimizer.py\n",
            "Resolving raw.githubusercontent.com (raw.githubusercontent.com)... 185.199.109.133, 185.199.110.133, 185.199.108.133, ...\n",
            "Connecting to raw.githubusercontent.com (raw.githubusercontent.com)|185.199.109.133|:443... connected.\n",
            "HTTP request sent, awaiting response... 200 OK\n",
            "Length: 2691 (2.6K) [text/plain]\n",
            "Saving to: ‘PortfolioOptimizer.py’\n",
            "\n",
            "\rPortfolioOptimizer.   0%[                    ]       0  --.-KB/s               \rPortfolioOptimizer. 100%[===================>]   2.63K  --.-KB/s    in 0s      \n",
            "\n",
            "2022-01-15 04:06:45 (33.4 MB/s) - ‘PortfolioOptimizer.py’ saved [2691/2691]\n",
            "\n"
          ]
        }
      ],
      "source": [
        "!wget https://raw.githubusercontent.com/cartasuzuki/phynance/master/PortfolioOptimizer.py"
      ]
    },
    {
      "cell_type": "markdown",
      "metadata": {
        "id": "9ndVE59o1HnO"
      },
      "source": [
        "Import libraries"
      ]
    },
    {
      "cell_type": "code",
      "execution_count": 5,
      "metadata": {
        "id": "do5vma0F1HnP"
      },
      "outputs": [],
      "source": [
        "import pandas as pd\n",
        "import matplotlib.pyplot as plt\n",
        "import numpy as np\n",
        "from PortfolioOptimizer import PortfolioOptimizer"
      ]
    },
    {
      "cell_type": "code",
      "execution_count": 8,
      "metadata": {
        "id": "0dXct09W1HnP"
      },
      "outputs": [],
      "source": [
        "stock_symbols = pd.read_csv('https://raw.githubusercontent.com/cartasuzuki/phynance/master/datasets/nikkei_high_dividend_yield_50_weight_en.csv')"
      ]
    },
    {
      "cell_type": "code",
      "execution_count": null,
      "metadata": {
        "id": "-CEegZu01HnP"
      },
      "outputs": [],
      "source": [
        ""
      ]
    },
    {
      "cell_type": "markdown",
      "metadata": {
        "id": "w4Bqx_Qp1HnQ"
      },
      "source": [
        "Once we have loaded our stock symbols dataset we can either use the prices in the csv file or download prices from alphadvantage to get updated data."
      ]
    },
    {
      "cell_type": "markdown",
      "metadata": {
        "id": "2J4qcM4w1HnQ"
      },
      "source": [
        "### Filter out some stocks from the index"
      ]
    },
    {
      "cell_type": "markdown",
      "metadata": {
        "id": "6ffhJmYY1HnQ"
      },
      "source": [
        "Chose a minimum div/yield. Set to 0 if you want to use all stocks in the index"
      ]
    },
    {
      "cell_type": "code",
      "execution_count": 6,
      "metadata": {
        "id": "d7en_0Hw1HnR"
      },
      "outputs": [],
      "source": [
        "min_yield = 3.5"
      ]
    },
    {
      "cell_type": "code",
      "execution_count": 56,
      "metadata": {
        "id": "O5uAu8RU1HnR"
      },
      "outputs": [],
      "source": [
        "selected_stocks = stock_symbols[stock_symbols['Dividend']>min_yield]"
      ]
    },
    {
      "cell_type": "markdown",
      "metadata": {
        "id": "Z2U22dpi1HnR"
      },
      "source": [
        "Create a filter string (highDivString) to be used later to filter stocks with lower yield than min_yield"
      ]
    },
    {
      "cell_type": "code",
      "execution_count": 10,
      "metadata": {
        "id": "r4doUNhH1HnR"
      },
      "outputs": [],
      "source": [
        "highDivString = selected_stocks['Code'].values.astype(int)\n",
        "highDivString = highDivString.astype(str)\n",
        "string = '.TOK'\n",
        "#highDivString = [x + string for x in highDivString]"
      ]
    },
    {
      "cell_type": "markdown",
      "metadata": {
        "id": "cw30vyhi1HnS"
      },
      "source": [
        "### Method 1: use csv file"
      ]
    },
    {
      "cell_type": "markdown",
      "metadata": {
        "id": "vdDAWM8Q1HnS"
      },
      "source": [
        "Read the stock prices from the csv provided in our repository"
      ]
    },
    {
      "cell_type": "code",
      "execution_count": 12,
      "metadata": {
        "id": "fSFd0yoM1HnS"
      },
      "outputs": [],
      "source": [
        "stocks = pd.read_csv('https://raw.githubusercontent.com/cartasuzuki/phynance/master/datasets/nikkei50.csv', index_col= ['timestamp'], parse_dates= ['timestamp'])\n",
        "#stocks = pd.read_csv('https://raw.githubusercontent.com/cartasuzuki/phynance/master/datasets/nikkei_high_dividend_yield_50_prices.csv', index_col= ['timestamp'], parse_dates= ['timestamp'])"
      ]
    },
    {
      "cell_type": "code",
      "source": [
        "highDivString"
      ],
      "metadata": {
        "id": "2mWeZhgE21vd",
        "outputId": "b5bdc085-7305-438d-ef3d-06181a67db67",
        "colab": {
          "base_uri": "https://localhost:8080/"
        }
      },
      "execution_count": 31,
      "outputs": [
        {
          "output_type": "execute_result",
          "data": {
            "text/plain": [
              "array(['2768', '2914', '4061', '4183', '4188', '4208', '4502', '4902',\n",
              "       '5020', '5108', '5214', '5703', '6113', '6178', '6301', '6471',\n",
              "       '6472', '7201', '7267', '7270', '7751', '8002', '8031', '8053',\n",
              "       '8058', '8304', '8306', '8308', '8316', '8354', '8411', '8601',\n",
              "       '8628', '8725', '8766', '9412', '9437'], dtype='<U21')"
            ]
          },
          "metadata": {},
          "execution_count": 31
        }
      ]
    },
    {
      "cell_type": "markdown",
      "metadata": {
        "id": "OE1m75wU1HnT"
      },
      "source": [
        "If you want higher yield filter out using the filter previously created"
      ]
    },
    {
      "cell_type": "code",
      "execution_count": 13,
      "metadata": {
        "id": "0vx4HQQJ1HnT"
      },
      "outputs": [],
      "source": [
        "stocks = stocks[highDivString]"
      ]
    },
    {
      "cell_type": "code",
      "source": [
        "stocks = stocks.replace(',','', regex=True)\n",
        "cols=[i for i in stocks.columns if i not in [\"timestamp\"]]\n",
        "\n",
        "for col in cols:\n",
        "    stocks[col]=pd.to_numeric(stocks[col])"
      ],
      "metadata": {
        "id": "qunr5O1Z64T0"
      },
      "execution_count": 29,
      "outputs": []
    },
    {
      "cell_type": "code",
      "source": [
        "stocks.head()"
      ],
      "metadata": {
        "id": "BN_0kZZR68fn",
        "outputId": "af025598-062f-4636-d74d-2e7b3ddd00e9",
        "colab": {
          "base_uri": "https://localhost:8080/",
          "height": 302
        }
      },
      "execution_count": 30,
      "outputs": [
        {
          "output_type": "execute_result",
          "data": {
            "text/html": [
              "\n",
              "  <div id=\"df-0266bc9c-b0c5-4b65-9e2d-085441ca46b8\">\n",
              "    <div class=\"colab-df-container\">\n",
              "      <div>\n",
              "<style scoped>\n",
              "    .dataframe tbody tr th:only-of-type {\n",
              "        vertical-align: middle;\n",
              "    }\n",
              "\n",
              "    .dataframe tbody tr th {\n",
              "        vertical-align: top;\n",
              "    }\n",
              "\n",
              "    .dataframe thead th {\n",
              "        text-align: right;\n",
              "    }\n",
              "</style>\n",
              "<table border=\"1\" class=\"dataframe\">\n",
              "  <thead>\n",
              "    <tr style=\"text-align: right;\">\n",
              "      <th></th>\n",
              "      <th>2768</th>\n",
              "      <th>2914</th>\n",
              "      <th>4061</th>\n",
              "      <th>4183</th>\n",
              "      <th>4188</th>\n",
              "      <th>4208</th>\n",
              "      <th>4502</th>\n",
              "      <th>4902</th>\n",
              "      <th>5020</th>\n",
              "      <th>5108</th>\n",
              "      <th>5214</th>\n",
              "      <th>5703</th>\n",
              "      <th>6113</th>\n",
              "      <th>6178</th>\n",
              "      <th>6301</th>\n",
              "      <th>6471</th>\n",
              "      <th>6472</th>\n",
              "      <th>7201</th>\n",
              "      <th>7267</th>\n",
              "      <th>7270</th>\n",
              "      <th>7751</th>\n",
              "      <th>8002</th>\n",
              "      <th>8031</th>\n",
              "      <th>8053</th>\n",
              "      <th>8058</th>\n",
              "      <th>8304</th>\n",
              "      <th>8306</th>\n",
              "      <th>8308</th>\n",
              "      <th>8316</th>\n",
              "      <th>8354</th>\n",
              "      <th>8411</th>\n",
              "      <th>8601</th>\n",
              "      <th>8628</th>\n",
              "      <th>8725</th>\n",
              "      <th>8766</th>\n",
              "      <th>9412</th>\n",
              "      <th>9437</th>\n",
              "    </tr>\n",
              "    <tr>\n",
              "      <th>timestamp</th>\n",
              "      <th></th>\n",
              "      <th></th>\n",
              "      <th></th>\n",
              "      <th></th>\n",
              "      <th></th>\n",
              "      <th></th>\n",
              "      <th></th>\n",
              "      <th></th>\n",
              "      <th></th>\n",
              "      <th></th>\n",
              "      <th></th>\n",
              "      <th></th>\n",
              "      <th></th>\n",
              "      <th></th>\n",
              "      <th></th>\n",
              "      <th></th>\n",
              "      <th></th>\n",
              "      <th></th>\n",
              "      <th></th>\n",
              "      <th></th>\n",
              "      <th></th>\n",
              "      <th></th>\n",
              "      <th></th>\n",
              "      <th></th>\n",
              "      <th></th>\n",
              "      <th></th>\n",
              "      <th></th>\n",
              "      <th></th>\n",
              "      <th></th>\n",
              "      <th></th>\n",
              "      <th></th>\n",
              "      <th></th>\n",
              "      <th></th>\n",
              "      <th></th>\n",
              "      <th></th>\n",
              "      <th></th>\n",
              "      <th></th>\n",
              "    </tr>\n",
              "  </thead>\n",
              "  <tbody>\n",
              "    <tr>\n",
              "      <th>2022-01-13</th>\n",
              "      <td>1830.0</td>\n",
              "      <td>2363.0</td>\n",
              "      <td>4050</td>\n",
              "      <td>3460</td>\n",
              "      <td>905.3</td>\n",
              "      <td>2161</td>\n",
              "      <td>3363.0</td>\n",
              "      <td>534</td>\n",
              "      <td>459.6</td>\n",
              "      <td>5105.0</td>\n",
              "      <td>2924</td>\n",
              "      <td>1868</td>\n",
              "      <td>1197</td>\n",
              "      <td>993.2</td>\n",
              "      <td>3010.0</td>\n",
              "      <td>831</td>\n",
              "      <td>259</td>\n",
              "      <td>646.0</td>\n",
              "      <td>3515.0</td>\n",
              "      <td>2226.0</td>\n",
              "      <td>2798.0</td>\n",
              "      <td>1194.0</td>\n",
              "      <td>2927.5</td>\n",
              "      <td>1757.5</td>\n",
              "      <td>3918.0</td>\n",
              "      <td>2731</td>\n",
              "      <td>714.2</td>\n",
              "      <td>515.7</td>\n",
              "      <td>4304.0</td>\n",
              "      <td>2299</td>\n",
              "      <td>1600.5</td>\n",
              "      <td>712.6</td>\n",
              "      <td>818</td>\n",
              "      <td>3951.0</td>\n",
              "      <td>7060</td>\n",
              "      <td>437</td>\n",
              "      <td>3880.0</td>\n",
              "    </tr>\n",
              "    <tr>\n",
              "      <th>2022-01-12</th>\n",
              "      <td>1794.0</td>\n",
              "      <td>2367.5</td>\n",
              "      <td>3965</td>\n",
              "      <td>3350</td>\n",
              "      <td>892.4</td>\n",
              "      <td>2114</td>\n",
              "      <td>3344.0</td>\n",
              "      <td>534</td>\n",
              "      <td>456.9</td>\n",
              "      <td>5139.0</td>\n",
              "      <td>2920</td>\n",
              "      <td>1848</td>\n",
              "      <td>1195</td>\n",
              "      <td>991.9</td>\n",
              "      <td>2975.5</td>\n",
              "      <td>835</td>\n",
              "      <td>258</td>\n",
              "      <td>631.9</td>\n",
              "      <td>3520.0</td>\n",
              "      <td>2216.5</td>\n",
              "      <td>2796.0</td>\n",
              "      <td>1158.0</td>\n",
              "      <td>2870.5</td>\n",
              "      <td>1727.5</td>\n",
              "      <td>3814.0</td>\n",
              "      <td>2702</td>\n",
              "      <td>704.0</td>\n",
              "      <td>501.6</td>\n",
              "      <td>4280.0</td>\n",
              "      <td>2260</td>\n",
              "      <td>1589.0</td>\n",
              "      <td>700.7</td>\n",
              "      <td>819</td>\n",
              "      <td>3902.0</td>\n",
              "      <td>6990</td>\n",
              "      <td>433</td>\n",
              "      <td>3880.0</td>\n",
              "    </tr>\n",
              "    <tr>\n",
              "      <th>2022-01-11</th>\n",
              "      <td>1773.0</td>\n",
              "      <td>2365.5</td>\n",
              "      <td>3915</td>\n",
              "      <td>3290</td>\n",
              "      <td>877.5</td>\n",
              "      <td>2087</td>\n",
              "      <td>3275.0</td>\n",
              "      <td>532</td>\n",
              "      <td>449.8</td>\n",
              "      <td>5092.0</td>\n",
              "      <td>2862</td>\n",
              "      <td>1817</td>\n",
              "      <td>1172</td>\n",
              "      <td>991.9</td>\n",
              "      <td>2940.0</td>\n",
              "      <td>806</td>\n",
              "      <td>252</td>\n",
              "      <td>622.3</td>\n",
              "      <td>3482.0</td>\n",
              "      <td>2196.0</td>\n",
              "      <td>2817.5</td>\n",
              "      <td>1126.5</td>\n",
              "      <td>2805.0</td>\n",
              "      <td>1709.0</td>\n",
              "      <td>3772.0</td>\n",
              "      <td>2708</td>\n",
              "      <td>701.4</td>\n",
              "      <td>498.0</td>\n",
              "      <td>4255.0</td>\n",
              "      <td>2250</td>\n",
              "      <td>1587.5</td>\n",
              "      <td>697.6</td>\n",
              "      <td>815</td>\n",
              "      <td>3898.0</td>\n",
              "      <td>7010</td>\n",
              "      <td>430</td>\n",
              "      <td>3880.0</td>\n",
              "    </tr>\n",
              "    <tr>\n",
              "      <th>2022-01-07</th>\n",
              "      <td>1773.0</td>\n",
              "      <td>2332.5</td>\n",
              "      <td>3890</td>\n",
              "      <td>3285</td>\n",
              "      <td>868.8</td>\n",
              "      <td>2083</td>\n",
              "      <td>3196.0</td>\n",
              "      <td>532</td>\n",
              "      <td>448.2</td>\n",
              "      <td>5082.0</td>\n",
              "      <td>2885</td>\n",
              "      <td>1779</td>\n",
              "      <td>1185</td>\n",
              "      <td>967.6</td>\n",
              "      <td>2889.0</td>\n",
              "      <td>814</td>\n",
              "      <td>253</td>\n",
              "      <td>629.0</td>\n",
              "      <td>3430.0</td>\n",
              "      <td>2206.0</td>\n",
              "      <td>2804.0</td>\n",
              "      <td>1118.5</td>\n",
              "      <td>2785.5</td>\n",
              "      <td>1708.5</td>\n",
              "      <td>3771.0</td>\n",
              "      <td>2612</td>\n",
              "      <td>685.8</td>\n",
              "      <td>484.3</td>\n",
              "      <td>4150.0</td>\n",
              "      <td>2147</td>\n",
              "      <td>1540.5</td>\n",
              "      <td>675.2</td>\n",
              "      <td>805</td>\n",
              "      <td>3791.0</td>\n",
              "      <td>6933</td>\n",
              "      <td>429</td>\n",
              "      <td>3880.0</td>\n",
              "    </tr>\n",
              "    <tr>\n",
              "      <th>2022-01-06</th>\n",
              "      <td>1777.0</td>\n",
              "      <td>2329.0</td>\n",
              "      <td>3885</td>\n",
              "      <td>3225</td>\n",
              "      <td>865.8</td>\n",
              "      <td>2049</td>\n",
              "      <td>3175.0</td>\n",
              "      <td>530</td>\n",
              "      <td>442.1</td>\n",
              "      <td>5093.0</td>\n",
              "      <td>2918</td>\n",
              "      <td>1766</td>\n",
              "      <td>1179</td>\n",
              "      <td>957.4</td>\n",
              "      <td>2894.0</td>\n",
              "      <td>790</td>\n",
              "      <td>250</td>\n",
              "      <td>615.8</td>\n",
              "      <td>3408.0</td>\n",
              "      <td>2191.0</td>\n",
              "      <td>2810.5</td>\n",
              "      <td>1126.0</td>\n",
              "      <td>2798.0</td>\n",
              "      <td>1711.0</td>\n",
              "      <td>3755.0</td>\n",
              "      <td>2596</td>\n",
              "      <td>663.0</td>\n",
              "      <td>471.0</td>\n",
              "      <td>4085.0</td>\n",
              "      <td>2053</td>\n",
              "      <td>1524.0</td>\n",
              "      <td>664.1</td>\n",
              "      <td>794</td>\n",
              "      <td>3751.0</td>\n",
              "      <td>6876</td>\n",
              "      <td>430</td>\n",
              "      <td>3880.0</td>\n",
              "    </tr>\n",
              "  </tbody>\n",
              "</table>\n",
              "</div>\n",
              "      <button class=\"colab-df-convert\" onclick=\"convertToInteractive('df-0266bc9c-b0c5-4b65-9e2d-085441ca46b8')\"\n",
              "              title=\"Convert this dataframe to an interactive table.\"\n",
              "              style=\"display:none;\">\n",
              "        \n",
              "  <svg xmlns=\"http://www.w3.org/2000/svg\" height=\"24px\"viewBox=\"0 0 24 24\"\n",
              "       width=\"24px\">\n",
              "    <path d=\"M0 0h24v24H0V0z\" fill=\"none\"/>\n",
              "    <path d=\"M18.56 5.44l.94 2.06.94-2.06 2.06-.94-2.06-.94-.94-2.06-.94 2.06-2.06.94zm-11 1L8.5 8.5l.94-2.06 2.06-.94-2.06-.94L8.5 2.5l-.94 2.06-2.06.94zm10 10l.94 2.06.94-2.06 2.06-.94-2.06-.94-.94-2.06-.94 2.06-2.06.94z\"/><path d=\"M17.41 7.96l-1.37-1.37c-.4-.4-.92-.59-1.43-.59-.52 0-1.04.2-1.43.59L10.3 9.45l-7.72 7.72c-.78.78-.78 2.05 0 2.83L4 21.41c.39.39.9.59 1.41.59.51 0 1.02-.2 1.41-.59l7.78-7.78 2.81-2.81c.8-.78.8-2.07 0-2.86zM5.41 20L4 18.59l7.72-7.72 1.47 1.35L5.41 20z\"/>\n",
              "  </svg>\n",
              "      </button>\n",
              "      \n",
              "  <style>\n",
              "    .colab-df-container {\n",
              "      display:flex;\n",
              "      flex-wrap:wrap;\n",
              "      gap: 12px;\n",
              "    }\n",
              "\n",
              "    .colab-df-convert {\n",
              "      background-color: #E8F0FE;\n",
              "      border: none;\n",
              "      border-radius: 50%;\n",
              "      cursor: pointer;\n",
              "      display: none;\n",
              "      fill: #1967D2;\n",
              "      height: 32px;\n",
              "      padding: 0 0 0 0;\n",
              "      width: 32px;\n",
              "    }\n",
              "\n",
              "    .colab-df-convert:hover {\n",
              "      background-color: #E2EBFA;\n",
              "      box-shadow: 0px 1px 2px rgba(60, 64, 67, 0.3), 0px 1px 3px 1px rgba(60, 64, 67, 0.15);\n",
              "      fill: #174EA6;\n",
              "    }\n",
              "\n",
              "    [theme=dark] .colab-df-convert {\n",
              "      background-color: #3B4455;\n",
              "      fill: #D2E3FC;\n",
              "    }\n",
              "\n",
              "    [theme=dark] .colab-df-convert:hover {\n",
              "      background-color: #434B5C;\n",
              "      box-shadow: 0px 1px 3px 1px rgba(0, 0, 0, 0.15);\n",
              "      filter: drop-shadow(0px 1px 2px rgba(0, 0, 0, 0.3));\n",
              "      fill: #FFFFFF;\n",
              "    }\n",
              "  </style>\n",
              "\n",
              "      <script>\n",
              "        const buttonEl =\n",
              "          document.querySelector('#df-0266bc9c-b0c5-4b65-9e2d-085441ca46b8 button.colab-df-convert');\n",
              "        buttonEl.style.display =\n",
              "          google.colab.kernel.accessAllowed ? 'block' : 'none';\n",
              "\n",
              "        async function convertToInteractive(key) {\n",
              "          const element = document.querySelector('#df-0266bc9c-b0c5-4b65-9e2d-085441ca46b8');\n",
              "          const dataTable =\n",
              "            await google.colab.kernel.invokeFunction('convertToInteractive',\n",
              "                                                     [key], {});\n",
              "          if (!dataTable) return;\n",
              "\n",
              "          const docLinkHtml = 'Like what you see? Visit the ' +\n",
              "            '<a target=\"_blank\" href=https://colab.research.google.com/notebooks/data_table.ipynb>data table notebook</a>'\n",
              "            + ' to learn more about interactive tables.';\n",
              "          element.innerHTML = '';\n",
              "          dataTable['output_type'] = 'display_data';\n",
              "          await google.colab.output.renderOutput(dataTable, element);\n",
              "          const docLink = document.createElement('div');\n",
              "          docLink.innerHTML = docLinkHtml;\n",
              "          element.appendChild(docLink);\n",
              "        }\n",
              "      </script>\n",
              "    </div>\n",
              "  </div>\n",
              "  "
            ],
            "text/plain": [
              "              2768    2914  4061  4183   4188  ...  8628    8725  8766  9412    9437\n",
              "timestamp                                      ...                                  \n",
              "2022-01-13  1830.0  2363.0  4050  3460  905.3  ...   818  3951.0  7060   437  3880.0\n",
              "2022-01-12  1794.0  2367.5  3965  3350  892.4  ...   819  3902.0  6990   433  3880.0\n",
              "2022-01-11  1773.0  2365.5  3915  3290  877.5  ...   815  3898.0  7010   430  3880.0\n",
              "2022-01-07  1773.0  2332.5  3890  3285  868.8  ...   805  3791.0  6933   429  3880.0\n",
              "2022-01-06  1777.0  2329.0  3885  3225  865.8  ...   794  3751.0  6876   430  3880.0\n",
              "\n",
              "[5 rows x 37 columns]"
            ]
          },
          "metadata": {},
          "execution_count": 30
        }
      ]
    },
    {
      "cell_type": "code",
      "source": [
        ""
      ],
      "metadata": {
        "id": "3WZ6fsy67QJI"
      },
      "execution_count": 18,
      "outputs": []
    },
    {
      "cell_type": "code",
      "execution_count": 40,
      "metadata": {
        "id": "g3VmBvGv1HnU"
      },
      "outputs": [],
      "source": [
        ""
      ]
    },
    {
      "cell_type": "markdown",
      "metadata": {
        "id": "qj7NMn6W1HnV"
      },
      "source": [
        "## Portfolio Optimization"
      ]
    },
    {
      "cell_type": "code",
      "execution_count": 43,
      "metadata": {
        "id": "RCkbiX_p1HnV"
      },
      "outputs": [],
      "source": [
        "\n",
        "\n",
        "weights, sharpe, ret = PortfolioOptimizer.optimize_portfolio(stocks,0,0.2)"
      ]
    },
    {
      "cell_type": "code",
      "execution_count": 44,
      "metadata": {
        "id": "DuLd3SwB1HnV",
        "outputId": "248970aa-0c93-4345-e8d0-69dc08d5a09b",
        "colab": {
          "base_uri": "https://localhost:8080/",
          "height": 384
        }
      },
      "outputs": [
        {
          "output_type": "stream",
          "name": "stdout",
          "text": [
            "8002: 20.0%\n",
            "8031: 20.0%\n",
            "8058: 20.0%\n",
            "8766: 20.0%\n",
            "9437: 20.0%\n",
            "Sharpe: 0.32\n",
            "Exp. Return: 8.07\n"
          ]
        },
        {
          "output_type": "display_data",
          "data": {
            "image/png": "[encoded data removed]",
            "text/plain": [
              "<Figure size 432x288 with 1 Axes>"
            ]
          },
          "metadata": {}
        }
      ],
      "source": [
        "PortfolioOptimizer.print_portfolio_result(weights, sharpe, ret)\n",
        "PortfolioOptimizer.portfolioAsPieChart(weights)"
      ]
    },
    {
      "cell_type": "markdown",
      "metadata": {
        "id": "goSiHsF41HnW"
      },
      "source": [
        "Average yield"
      ]
    },
    {
      "cell_type": "code",
      "execution_count": 45,
      "metadata": {
        "id": "4KbedtcX1HnW",
        "outputId": "1346436f-1375-471a-9e66-385c8d8f9153",
        "colab": {
          "base_uri": "https://localhost:8080/"
        }
      },
      "outputs": [
        {
          "output_type": "execute_result",
          "data": {
            "text/plain": [
              "3.8366666666666673"
            ]
          },
          "metadata": {},
          "execution_count": 45
        }
      ],
      "source": [
        "selected_stocks['Dividend'].mean()"
      ]
    },
    {
      "cell_type": "markdown",
      "metadata": {
        "id": "GanME8Xr1HnW"
      },
      "source": [
        "Remove 0s and TOK string."
      ]
    },
    {
      "cell_type": "code",
      "execution_count": 54,
      "metadata": {
        "id": "g6kFQ7IK1HnW",
        "outputId": "26c8ce45-4d09-4fce-d797-583e85ea17c9",
        "colab": {
          "base_uri": "https://localhost:8080/"
        }
      },
      "outputs": [
        {
          "output_type": "execute_result",
          "data": {
            "text/plain": [
              "['8002', '8031', '8058', '8766', '9437']"
            ]
          },
          "metadata": {},
          "execution_count": 54
        }
      ],
      "source": [
        "www ={x:y for x,y in weights.items() if y>0.001}\n",
        "portfolio =list(www.keys())\n",
        "portfoliovalues = list(www.values())\n",
        "\n",
        "portfolio"
      ]
    },
    {
      "cell_type": "markdown",
      "metadata": {
        "id": "7l-lnC161HnW"
      },
      "source": [
        "### Resulting Portfolio"
      ]
    },
    {
      "cell_type": "code",
      "execution_count": 57,
      "metadata": {
        "id": "zX5wm4m_1HnW"
      },
      "outputs": [],
      "source": [
        "selected_stocks = selected_stocks[selected_stocks['Code'].isin(portfolio)]\n"
      ]
    },
    {
      "cell_type": "code",
      "execution_count": 58,
      "metadata": {
        "id": "-9AcJwNZ1HnX",
        "outputId": "c115a33e-ea86-44f1-a612-fdbc9925257a",
        "colab": {
          "base_uri": "https://localhost:8080/",
          "height": 206
        }
      },
      "outputs": [
        {
          "output_type": "execute_result",
          "data": {
            "text/html": [
              "\n",
              "  <div id=\"df-a35d65d8-690d-49a8-8a4b-628f85eae9a4\">\n",
              "    <div class=\"colab-df-container\">\n",
              "      <div>\n",
              "<style scoped>\n",
              "    .dataframe tbody tr th:only-of-type {\n",
              "        vertical-align: middle;\n",
              "    }\n",
              "\n",
              "    .dataframe tbody tr th {\n",
              "        vertical-align: top;\n",
              "    }\n",
              "\n",
              "    .dataframe thead th {\n",
              "        text-align: right;\n",
              "    }\n",
              "</style>\n",
              "<table border=\"1\" class=\"dataframe\">\n",
              "  <thead>\n",
              "    <tr style=\"text-align: right;\">\n",
              "      <th></th>\n",
              "      <th>Date of Data</th>\n",
              "      <th>Code</th>\n",
              "      <th>Company Name</th>\n",
              "      <th>Nikkei Industrial Classification</th>\n",
              "      <th>Weight</th>\n",
              "      <th>Dividend</th>\n",
              "    </tr>\n",
              "  </thead>\n",
              "  <tbody>\n",
              "    <tr>\n",
              "      <th>27</th>\n",
              "      <td>2018/11/30</td>\n",
              "      <td>8002</td>\n",
              "      <td>MARUBENI CORP.</td>\n",
              "      <td>Trading Companies</td>\n",
              "      <td>2.5729%</td>\n",
              "      <td>4.26</td>\n",
              "    </tr>\n",
              "    <tr>\n",
              "      <th>28</th>\n",
              "      <td>2018/11/30</td>\n",
              "      <td>8031</td>\n",
              "      <td>MITSUI &amp; CO., LTD.</td>\n",
              "      <td>Trading Companies</td>\n",
              "      <td>2.7195%</td>\n",
              "      <td>4.11</td>\n",
              "    </tr>\n",
              "    <tr>\n",
              "      <th>31</th>\n",
              "      <td>2018/11/30</td>\n",
              "      <td>8058</td>\n",
              "      <td>MITSUBISHI CORP.</td>\n",
              "      <td>Trading Companies</td>\n",
              "      <td>3.0817%</td>\n",
              "      <td>4.38</td>\n",
              "    </tr>\n",
              "    <tr>\n",
              "      <th>44</th>\n",
              "      <td>2018/11/30</td>\n",
              "      <td>8766</td>\n",
              "      <td>TOKIO MARINE HOLDINGS, INC.</td>\n",
              "      <td>Insurance</td>\n",
              "      <td>2.9531%</td>\n",
              "      <td>3.60</td>\n",
              "    </tr>\n",
              "    <tr>\n",
              "      <th>47</th>\n",
              "      <td>2018/11/30</td>\n",
              "      <td>9437</td>\n",
              "      <td>NTT DOCOMO, INC.</td>\n",
              "      <td>Communications</td>\n",
              "      <td>2.9280%</td>\n",
              "      <td>3.80</td>\n",
              "    </tr>\n",
              "  </tbody>\n",
              "</table>\n",
              "</div>\n",
              "      <button class=\"colab-df-convert\" onclick=\"convertToInteractive('df-a35d65d8-690d-49a8-8a4b-628f85eae9a4')\"\n",
              "              title=\"Convert this dataframe to an interactive table.\"\n",
              "              style=\"display:none;\">\n",
              "        \n",
              "  <svg xmlns=\"http://www.w3.org/2000/svg\" height=\"24px\"viewBox=\"0 0 24 24\"\n",
              "       width=\"24px\">\n",
              "    <path d=\"M0 0h24v24H0V0z\" fill=\"none\"/>\n",
              "    <path d=\"M18.56 5.44l.94 2.06.94-2.06 2.06-.94-2.06-.94-.94-2.06-.94 2.06-2.06.94zm-11 1L8.5 8.5l.94-2.06 2.06-.94-2.06-.94L8.5 2.5l-.94 2.06-2.06.94zm10 10l.94 2.06.94-2.06 2.06-.94-2.06-.94-.94-2.06-.94 2.06-2.06.94z\"/><path d=\"M17.41 7.96l-1.37-1.37c-.4-.4-.92-.59-1.43-.59-.52 0-1.04.2-1.43.59L10.3 9.45l-7.72 7.72c-.78.78-.78 2.05 0 2.83L4 21.41c.39.39.9.59 1.41.59.51 0 1.02-.2 1.41-.59l7.78-7.78 2.81-2.81c.8-.78.8-2.07 0-2.86zM5.41 20L4 18.59l7.72-7.72 1.47 1.35L5.41 20z\"/>\n",
              "  </svg>\n",
              "      </button>\n",
              "      \n",
              "  <style>\n",
              "    .colab-df-container {\n",
              "      display:flex;\n",
              "      flex-wrap:wrap;\n",
              "      gap: 12px;\n",
              "    }\n",
              "\n",
              "    .colab-df-convert {\n",
              "      background-color: #E8F0FE;\n",
              "      border: none;\n",
              "      border-radius: 50%;\n",
              "      cursor: pointer;\n",
              "      display: none;\n",
              "      fill: #1967D2;\n",
              "      height: 32px;\n",
              "      padding: 0 0 0 0;\n",
              "      width: 32px;\n",
              "    }\n",
              "\n",
              "    .colab-df-convert:hover {\n",
              "      background-color: #E2EBFA;\n",
              "      box-shadow: 0px 1px 2px rgba(60, 64, 67, 0.3), 0px 1px 3px 1px rgba(60, 64, 67, 0.15);\n",
              "      fill: #174EA6;\n",
              "    }\n",
              "\n",
              "    [theme=dark] .colab-df-convert {\n",
              "      background-color: #3B4455;\n",
              "      fill: #D2E3FC;\n",
              "    }\n",
              "\n",
              "    [theme=dark] .colab-df-convert:hover {\n",
              "      background-color: #434B5C;\n",
              "      box-shadow: 0px 1px 3px 1px rgba(0, 0, 0, 0.15);\n",
              "      filter: drop-shadow(0px 1px 2px rgba(0, 0, 0, 0.3));\n",
              "      fill: #FFFFFF;\n",
              "    }\n",
              "  </style>\n",
              "\n",
              "      <script>\n",
              "        const buttonEl =\n",
              "          document.querySelector('#df-a35d65d8-690d-49a8-8a4b-628f85eae9a4 button.colab-df-convert');\n",
              "        buttonEl.style.display =\n",
              "          google.colab.kernel.accessAllowed ? 'block' : 'none';\n",
              "\n",
              "        async function convertToInteractive(key) {\n",
              "          const element = document.querySelector('#df-a35d65d8-690d-49a8-8a4b-628f85eae9a4');\n",
              "          const dataTable =\n",
              "            await google.colab.kernel.invokeFunction('convertToInteractive',\n",
              "                                                     [key], {});\n",
              "          if (!dataTable) return;\n",
              "\n",
              "          const docLinkHtml = 'Like what you see? Visit the ' +\n",
              "            '<a target=\"_blank\" href=https://colab.research.google.com/notebooks/data_table.ipynb>data table notebook</a>'\n",
              "            + ' to learn more about interactive tables.';\n",
              "          element.innerHTML = '';\n",
              "          dataTable['output_type'] = 'display_data';\n",
              "          await google.colab.output.renderOutput(dataTable, element);\n",
              "          const docLink = document.createElement('div');\n",
              "          docLink.innerHTML = docLinkHtml;\n",
              "          element.appendChild(docLink);\n",
              "        }\n",
              "      </script>\n",
              "    </div>\n",
              "  </div>\n",
              "  "
            ],
            "text/plain": [
              "   Date of Data  Code  ...   Weight Dividend\n",
              "27   2018/11/30  8002  ...  2.5729%     4.26\n",
              "28   2018/11/30  8031  ...  2.7195%     4.11\n",
              "31   2018/11/30  8058  ...  3.0817%     4.38\n",
              "44   2018/11/30  8766  ...  2.9531%     3.60\n",
              "47   2018/11/30  9437  ...  2.9280%     3.80\n",
              "\n",
              "[5 rows x 6 columns]"
            ]
          },
          "metadata": {},
          "execution_count": 58
        }
      ],
      "source": [
        "selected_stocks"
      ]
    },
    {
      "cell_type": "code",
      "execution_count": 36,
      "metadata": {
        "id": "KxGMp9H91HnX",
        "outputId": "e030623a-c2b5-4748-e5c6-93a8cb8b7b84",
        "colab": {
          "base_uri": "https://localhost:8080/"
        }
      },
      "outputs": [
        {
          "output_type": "execute_result",
          "data": {
            "text/plain": [
              "3.92"
            ]
          },
          "metadata": {},
          "execution_count": 36
        }
      ],
      "source": [
        " Div_Yield = np.average(selected_stocks['Dividend'], weights=selected_stocks['Weight'])\n",
        "round(Div_Yield, 2)"
      ]
    },
    {
      "cell_type": "code",
      "execution_count": null,
      "metadata": {
        "id": "pl7CwvrY1HnX"
      },
      "outputs": [],
      "source": [
        "\n"
      ]
    }
  ],
  "metadata": {
    "kernelspec": {
      "display_name": "Python 3",
      "language": "python",
      "name": "python3"
    },
    "language_info": {
      "codemirror_mode": {
        "name": "ipython",
        "version": 3
      },
      "file_extension": ".py",
      "mimetype": "text/x-python",
      "name": "python",
      "nbconvert_exporter": "python",
      "pygments_lexer": "ipython3",
      "version": "3.6.4"
    },
    "colab": {
      "name": "NikkeiHighDiv50_analysis.ipynb",
      "provenance": []
    }
  },
  "nbformat": 4,
  "nbformat_minor": 0
}